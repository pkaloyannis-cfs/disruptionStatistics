{
 "cells": [
  {
   "cell_type": "markdown",
   "id": "425da42a",
   "metadata": {},
   "source": [
    "# Getting Started Notebook\n",
    "\n",
    "Hello! \n",
    "\n",
    "This notebooks should be where you start for a walkthrough on how to use this code package. It is not super clean, so please send notes if you find it confusing.\n",
    "\n",
    "This starts with a lot of imports because I haven't quite had the time to clean the code in a way that prunes these down."
   ]
  },
  {
   "cell_type": "code",
   "execution_count": null,
   "id": "67bc64a6",
   "metadata": {},
   "outputs": [],
   "source": [
    "%load_ext autoreload\n",
    "%autoreload 2\n",
    "# This is so that editing the config files for the tokamaks\n",
    "# updates the config in a notebook style.\n",
    "\n",
    "# Move into the source directory for this notebook to work properly\n",
    "# Probably want a better way of doing this.\n",
    "import os\n",
    "os.chdir('../src/')\n",
    "\n",
    "# Basic Imports\n",
    "import numpy as np\n",
    "import pandas as pd\n",
    "import matplotlib.pyplot as plt\n",
    "\n",
    "# Import the core disruptivity functions.\n",
    "import disruptivity as dis\n",
    "\n",
    "# Import visualizers.\n",
    "import vis.disruptivity_vis as dis_vis\n",
    "from vis.plot_helpers import plot_subplot as plot\n",
    "\n",
    "# Impor the mat file data loader.\n",
    "from data_loader import load_disruptions_mat as load_disruptions_mat"
   ]
  },
  {
   "cell_type": "markdown",
   "id": "ebe9d035",
   "metadata": {},
   "source": [
    "## CMOD\n",
    "### File Loading\n",
    "\n",
    "Now that the configuration is loaded, let's import some CMOD data. This is in a mat file, but after loading it in, it is converted into a pandas dataframe `cmod_df` and a dictionary of indices organized by label, `cmod_indices`.\n",
    "\n",
    "In the dataframe, collumns are indexed by the name of the parameter. All the pulses in the database are organized in a flattened line.\n",
    "\n",
    "In the indices dictionary, indices are sorted in their chronological order and label. Let's print out the labels and see how it looks.\n",
    "\n",
    "*NOTE: The time resolution is non uniform. This is important for later.*"
   ]
  },
  {
   "cell_type": "code",
   "execution_count": null,
   "id": "4d34174f",
   "metadata": {},
   "outputs": [],
   "source": [
    "cmod_df, cmod_indices = load_disruptions_mat('../data/CMod_disruption_warning_db.mat')\n",
    "print(cmod_indices.keys())"
   ]
  },
  {
   "cell_type": "markdown",
   "id": "a28dca02",
   "metadata": {},
   "source": [
    "Notice that these keys might have confusing names. The important ones are \n",
    "- `indices_disrupt`: Indices belonging to a disrupted pulse.\n",
    "- `indices_flattop`: Indices belonging to the flattop of a pulse.\n",
    "- `indices_disrupt_in_flattop`: Indices for pulses that disrupt in flattop (??)\n",
    "- `indices_disrupt_time`: The time of disruption indices.\n",
    "\n",
    "This demo starts by introducing how Tokamaks are configured in this codebase. They are represented by simple dictionaries in the `./src/tokamaks` folder. They include some metadata on the tokamak, as well as entries that describe the regions of interest for parameters we will use for analysis. The keys of the entries must match the headers of the columns in the dataframe imported above.\n",
    "\n",
    "The dictionary structure is pretty self descriptive, so please open a file and just read through the keys."
   ]
  },
  {
   "cell_type": "code",
   "execution_count": null,
   "id": "4cc79b4b",
   "metadata": {},
   "outputs": [],
   "source": [
    "from tokamaks.cmod import CONFIG as CMOD"
   ]
  },
  {
   "cell_type": "markdown",
   "id": "5463dc3e",
   "metadata": {},
   "source": [
    "## Using Tokamak Information\n",
    "\n",
    "We will use the above dictionary to build the axes over which we will compute disruptivity. The axes are described by entry dictionaries or the conventionally called `entry_dict`. The entry dict is keyed into by the name of the parameter that one wishes to compute the disruptivity over. These provide other parameters like the range of the histogram that will be used for disruptivity calculations and the axis name for plotting.\n",
    "\n",
    "The number of entries in the entry dictionary set the dimension of the disruptivity calculation.\n",
    "\n",
    "Let us configure a entry dictionary that will compute the disruptivity over 1D $\\kappa$."
   ]
  },
  {
   "cell_type": "code",
   "execution_count": null,
   "id": "777186bb",
   "metadata": {},
   "outputs": [],
   "source": [
    "# Manually creating an entry dict\n",
    "entry_dict = {\n",
    "    \"kappa\": {\n",
    "            \"range\": [0.8, 2.0],\n",
    "            \"axis_name\": \"$\\kappa$\",\n",
    "    },\n",
    "}\n",
    "\n",
    "# But, don't do that, instead use the tokamak configuration to \n",
    "# build these in a more reliable way.\n",
    "entry_dict = {\n",
    "    \"kappa\": CMOD['entry_dict']['kappa']\n",
    "}"
   ]
  },
  {
   "cell_type": "markdown",
   "id": "1c627b54",
   "metadata": {},
   "source": [
    "Now we need to compute the disruptivity itself. For the sampling method, this is divided into two steps.\n",
    "1. Define the disruption and histogram the data.\n",
    "2. Compute the disruptivy map from those histograms.\n",
    "\n",
    "The reason for this separation is that there are further things that can be set in the disruptivity calculation. There are a few settings but the most notable ones at this stage are the $\\tau$ time and the window size (in ms measured backwards from the tau time) for the label of the disrupted data point. Generally we want the window to be the same size as `dt` near the tau time.\n",
    "\n",
    "*Note: Currently the code base only supports computing the disruptivity during the flattop. Extending this is easy and if we need it just ask.*"
   ]
  },
  {
   "cell_type": "code",
   "execution_count": null,
   "id": "127c506c",
   "metadata": {},
   "outputs": [],
   "source": [
    "# Compute indices of interest. Usually this is the numerator and denominator in the disruptivity calculations.\n",
    "# Here we do tau = 0 ms and window = 2 ms\n",
    "indices_n_disrupt, indices_n_total = dis.get_indices_disruptivity(CMOD, cmod_df, cmod_indices, tau=0, window=2)\n",
    "                                                                  \n",
    "# Next comput the disruptivity itself from the indices.\n",
    "# Here we use the sampling method instead of the ML method.\n",
    "args = dis.compute_disruptivity_sampling(cmod_df, entry_dict, indices_n_disrupt, indices_n_total, nbins=35)\n",
    "\n",
    "# Finally plot the output.\n",
    "# TODO: I will need to document how plotting works in this better\n",
    "fig,ax = plot(\"cmod_kappa_zerr_disruptivity.png\", dis_vis.subplot_disruptivity1d, args)"
   ]
  },
  {
   "cell_type": "code",
   "execution_count": null,
   "id": "5183bc18",
   "metadata": {},
   "outputs": [],
   "source": [
    "# Finally as a little cherry on top, let's try a 2D calculation.\n",
    "entry_dict_2D = {\n",
    "    'kappa': CMOD['entry_dict']['kappa'],\n",
    "    'beta_n': CMOD['entry_dict']['beta_n'],\n",
    "}\n",
    "\n",
    "# No need to recompute the histogram. It is good to go.\n",
    "args = dis.compute_disruptivity_sampling(cmod_df, entry_dict_2D, indices_n_disrupt, indices_n_total, nbins=35)\n",
    "\n",
    "# Finally plot the output. Switch to the 2D plotter.\n",
    "fig,ax = plot(\"cmod_kappa_zerr_disruptivity.png\", dis_vis.subplot_disruptivity2d, args)"
   ]
  },
  {
   "cell_type": "markdown",
   "id": "df343562",
   "metadata": {},
   "source": [
    "Yay! That should be just enough to jump start you. If you wanna try DIII-D out. Just do everything here but with the DIII-D data and structures and it will work."
   ]
  },
  {
   "cell_type": "markdown",
   "id": "5e317263",
   "metadata": {},
   "source": []
  }
 ],
 "metadata": {
  "kernelspec": {
   "display_name": "Python 3 (ipykernel)",
   "language": "python",
   "name": "python3"
  },
  "language_info": {
   "codemirror_mode": {
    "name": "ipython",
    "version": 3
   },
   "file_extension": ".py",
   "mimetype": "text/x-python",
   "name": "python",
   "nbconvert_exporter": "python",
   "pygments_lexer": "ipython3",
   "version": "3.10.6"
  },
  "vscode": {
   "interpreter": {
    "hash": "a095067f5ef5356c14f6f887a39e8caeb113485c3d9c3e4b2d6253c96636f2e2"
   }
  }
 },
 "nbformat": 4,
 "nbformat_minor": 5
}
