{
 "cells": [
  {
   "cell_type": "markdown",
   "id": "f8b55e67",
   "metadata": {},
   "source": [
    "# $\\tau$-Disruptivity trajectories.\n",
    "This document outlines some very rough work for plotting the $\\tau$ disruptivity as a function of time. It is not recommended to look through this."
   ]
  },
  {
   "cell_type": "code",
   "execution_count": null,
   "id": "938d30f6",
   "metadata": {},
   "outputs": [],
   "source": [
    "import numpy as np\n",
    "import pandas as pd\n",
    "import matplotlib.pyplot as plt\n",
    "import scipy\n",
    "from scipy.optimize import minimize, LinearConstraint\n",
    "from scipy.interpolate import interp1d, LinearNDInterpolator\n",
    "\n",
    "# Move into the source directory for this notebook to work properly\n",
    "# Probably want a better way of doing this.\n",
    "import os\n",
    "import importlib\n",
    "os.chdir('../src/')\n",
    "\n",
    "# Import whatever we need\n",
    "import disruptivity as dis\n",
    "import vis.disruptivity_vis as dis_vis\n",
    "import vis.probability_vis as prob_vis\n",
    "from vis.plot_helpers import plot_subplot as plot\n",
    "import data_loader\n",
    "\n",
    "# Import tokamak Configuartions\n",
    "from tokamaks.cmod import CONFIG as CMOD\n",
    "from tokamaks.d3d import CONFIG as D3D\n",
    "\n",
    "importlib.reload(dis)\n",
    "importlib.reload(dis_vis)\n",
    "load_disruptions_mat = data_loader.load_disruptions_mat"
   ]
  },
  {
   "cell_type": "markdown",
   "id": "e46ee21e",
   "metadata": {},
   "source": [
    "Loading is the same as before, we use the premade functions for disruptivity computations."
   ]
  },
  {
   "cell_type": "code",
   "execution_count": null,
   "id": "cf2f9ccb",
   "metadata": {},
   "outputs": [],
   "source": [
    "cmod_df, cmod_indices = load_disruptions_mat('../data/CMod_disruption_warning_db.mat')"
   ]
  },
  {
   "cell_type": "code",
   "execution_count": null,
   "id": "a2baa930",
   "metadata": {},
   "outputs": [],
   "source": [
    "plt.plot(cmod_df.shot)\n",
    "cmod_df.keys()"
   ]
  },
  {
   "cell_type": "code",
   "execution_count": null,
   "id": "a2345168",
   "metadata": {},
   "outputs": [],
   "source": [
    "'''\n",
    "So my goal with this block of code is to find all the portions of flat top disrupted shots \n",
    "that are in flat tops. Should be simple enough.\n",
    "'''\n",
    "\n",
    "# Entry dictionary\n",
    "entry_dict_1D = {\n",
    "    'z_error': CMOD[\"entry_dict\"][\"z_error\"],\n",
    "    'kappa': CMOD[\"entry_dict\"][\"kappa\"],\n",
    "#     'z_error': CMOD[\"entry_dict\"][\"z_error\"],\n",
    "}\n",
    "\n",
    "entry_dict_2D = {\n",
    "    'q95':CMOD['entry_dict']['q95'],\n",
    "    'n_e':CMOD['entry_dict']['n_e'],\n",
    "}\n",
    "\n",
    "# Hugill\n",
    "# Compute the murakami parameter\n",
    "cmod_df['inv_q95'] = 1/cmod_df['q95']\n",
    "cmod_df['murakami'] = cmod_df['n_e']*0.68/(cmod_df['n_equal_1_mode']/cmod_df['n_equal_1_normalized'])/1e19\n",
    "\n",
    "entry_dict_H = {\n",
    "    'murakami':{\n",
    "        'range':[0,20],\n",
    "        'axis_name': \"$n_e R/B_T \\ (10^{19}$m$^{-2}$/T)\",\n",
    "    },\n",
    "    'inv_q95':{\n",
    "        'range':[0, 1],\n",
    "        'axis_name': \"$1/q_{95}$\",\n",
    "    },\n",
    " }"
   ]
  },
  {
   "cell_type": "markdown",
   "id": "ce10ead6",
   "metadata": {},
   "source": [
    "Now, we can reuse the histogram binning code for variable timesteps that returns the data indices of data points for each bin. Since this new method essentially tries to compute the dt of subsequent data points, it is mechanically the same as the dt calculation for variable timestep as well! "
   ]
  },
  {
   "cell_type": "code",
   "execution_count": null,
   "id": "17cd9b14",
   "metadata": {},
   "outputs": [],
   "source": [
    "\n",
    "    \n",
    "# Computing the disruptivity and plotting the regular figure\n",
    "# shotlist=None\n",
    "# entry_dict = entry_dict_2D\n",
    "# indices_n_disrupt, indices_n_total = dis.get_indices_disruptivity(CMOD, cmod_df, cmod_indices, shotlist=shotlist)\n",
    "# args = dis.compute_disruptivity_likelihood(cmod_df, entry_dict, indices_n_total, nbins=35, tau=50, window=25)\n",
    "fig,ax = plot('cmod_q95_ne_disruptivity_kaloyannis.png', dis_vis.subplot_disruptivity2d, args, figsize=(7,4))\n",
    "\n",
    "# Get a pulse's flat top data\n",
    "shot = 1140226013 #AT PULSE\n",
    "# shot = 1120105021 #VDE\n",
    "# Plotting Constraints\n",
    "# ax.plot([0,20], [0.5, 0.5], '--', c='orange')\n",
    "# ax.plot([0,20], [0.0, 0.5], '--', c='orange')"
   ]
  },
  {
   "cell_type": "code",
   "execution_count": null,
   "id": "336081fd",
   "metadata": {},
   "outputs": [],
   "source": [
    "dis_vis.plot_data_selection(*args)"
   ]
  },
  {
   "cell_type": "code",
   "execution_count": null,
   "id": "6ac41bb4",
   "metadata": {},
   "outputs": [],
   "source": [
    "def big_crunch(dataframe, indices, shotlist, tokamak, figtype, nbins=25, tau=0, window=2, dis_type='sampling'):\n",
    "    \n",
    "    # Figure settings\n",
    "    figwidth = 6\n",
    "    figheight = 4\n",
    "    \n",
    "    # Create the big plot\n",
    "    n_plots = len(tokamak['entry_dict'])\n",
    "    n_cols = 4\n",
    "    # Make sure we don't make stupid plots that are all whitespace\n",
    "    if n_plots < n_cols:\n",
    "        n_cols = n_plots\n",
    "    n_rows = np.ceil(n_plots/n_cols).astype(int)\n",
    "    fig, ax = plt.subplots(n_rows, n_cols, figsize=(\n",
    "        figwidth*n_cols, figheight*n_rows), constrained_layout=True)\n",
    "    fig2, ax2 = plt.subplots(n_rows, n_cols, figsize=(\n",
    "        figwidth*n_cols, figheight*n_rows), constrained_layout=True)\n",
    "    \n",
    "    # Compute the index histograms\n",
    "    indices_n_disrupt, indices_n_total = dis.get_indices_disruptivity(tokamak, dataframe, indices, shotlist=shotlist, tau=tau, window=window)\n",
    "    \n",
    "    # Loop through the data fields\n",
    "    # If we only have a single row\n",
    "    for (i, entry) in enumerate(tokamak['entry_dict']):\n",
    "        # Information Lines\n",
    "        print(\"Working on \"+entry)\n",
    "\n",
    "        # Create the entry dict\n",
    "        entry_dict = {entry:tokamak['entry_dict'][entry]}\n",
    "\n",
    "        # Get the tokamak name\n",
    "        name = tokamak['name']\n",
    "\n",
    "        # Compute Disruptivity and save the plot\n",
    "        if dis_type=='sampling':\n",
    "            args = dis.compute_disruptivity_sampling(dataframe,\n",
    "                                            entry_dict,\n",
    "                                            indices_n_disrupt,\n",
    "                                            indices_n_total,\n",
    "                                            nbins=nbins)\n",
    "        \n",
    "        elif dis_type=='likelihood':\n",
    "            args = dis.compute_disruptivity_likelihood(dataframe,\n",
    "                                                       entry_dict,\n",
    "                                                       indices_n_total,\n",
    "                                                       nbins=nbins,\n",
    "                                                       tau = tau,\n",
    "                                                       window = window,\n",
    "                                                      )\n",
    "        else:\n",
    "            assert False, f\"Invalid calculation type {dis_type}\"\n",
    "            \n",
    "        dis_vis.subplot_disruptivity1d(ax.flat[i], *args)\n",
    "\n",
    "    # Remove axes of unrendered plots\n",
    "    for i in range(n_plots, n_cols*n_rows):\n",
    "        ax.flat[i].axis('off')\n",
    "                \n",
    "    return fig,ax\n"
   ]
  },
  {
   "cell_type": "code",
   "execution_count": null,
   "id": "7f4e5e47",
   "metadata": {},
   "outputs": [],
   "source": [
    "# the big crunch\n",
    "cmod_vde_shotlist = np.loadtxt(\"../data/cmod_vde_shotlist.txt\", dtype=int)\n",
    "\n",
    "# Parameter setup\n",
    "# figtype = 'disruptivity_vde_kaloyannis'\n",
    "figtype = 'disruptivity_likelihood'\n",
    "shotlist = cmod_vde_shotlist #None # set to None for no shotlist\n",
    "\n",
    "# Compute indices of interest\n",
    "indices_n_disrupt, indices_n_total = dis.get_indices_disruptivity(CMOD, cmod_df, cmod_indices, shotlist=shotlist)\n",
    "\n",
    "fig,ax = big_crunch(cmod_df, cmod_indices, shotlist, CMOD, figtype, nbins=25, tau=50, window=25)"
   ]
  },
  {
   "cell_type": "code",
   "execution_count": null,
   "id": "601fbf86",
   "metadata": {},
   "outputs": [],
   "source": [
    "fig.savefig(\"big_crunch_vde.png\", dpi=400, bbox_inches=\"tight\")"
   ]
  },
  {
   "cell_type": "markdown",
   "id": "47b9452a",
   "metadata": {},
   "source": [
    "### DIII-D Crunch"
   ]
  },
  {
   "cell_type": "code",
   "execution_count": null,
   "id": "3bb60b63",
   "metadata": {},
   "outputs": [],
   "source": [
    "import tokamaks.d3d as d3d\n",
    "importlib.reload(d3d)\n",
    "D3D = d3d.CONFIG\n",
    "d3d_df, d3d_indices = load_disruptions_mat('../data/d3d-db-220420.mat')"
   ]
  },
  {
   "cell_type": "code",
   "execution_count": null,
   "id": "68bfc04a",
   "metadata": {},
   "outputs": [],
   "source": [
    "D3D"
   ]
  },
  {
   "cell_type": "code",
   "execution_count": null,
   "id": "6dc394bf",
   "metadata": {},
   "outputs": [],
   "source": [
    "# Hugill\n",
    "# Compute the murakami parameter\n",
    "d3d_df['inv_q95'] = 1/d3d_df['q95']\n",
    "d3d_df['murakami'] = d3d_df['n_e']*0.68/(d3d_df['n_equal_1_mode']/d3d_df['n_equal_1_normalized'])/1e19\n",
    "\n",
    "entry_dict_n1 = {\n",
    "    \"n1rms_normalized\": D3D['entry_dict']['n1rms_normalized'],\n",
    "    \"n_equal_1_normalized\": D3D['entry_dict'][\"n_equal_1_normalized\"],\n",
    "}\n",
    "\n",
    "entry_dict_2D = {\n",
    "    'q95':D3D['entry_dict']['q95'],\n",
    "    'n_e':D3D['entry_dict']['n_e'],\n",
    "}"
   ]
  },
  {
   "cell_type": "code",
   "execution_count": null,
   "id": "05495cbb",
   "metadata": {},
   "outputs": [],
   "source": [
    "# Computing the disruptivity and plotting the regular figure\n",
    "shotlist=None\n",
    "entry_dict = entry_dict_2D\n",
    "indices_n_disrupt, indices_n_total = dis.get_indices_disruptivity(D3D, d3d_df, d3d_indices, shotlist=shotlist)\n",
    "args = dis.compute_disruptivity_likelihood(d3d_df, entry_dict, indices_n_total, nbins=35, tau=350, window=25)"
   ]
  },
  {
   "cell_type": "code",
   "execution_count": null,
   "id": "2faef3ae",
   "metadata": {},
   "outputs": [],
   "source": [
    "fig,ax = plot('d3d_n1_2d_disruptivity.png', dis_vis.subplot_disruptivity2d, args, figsize=(7,4))\n",
    "# Get a pulse's flat top data\n",
    "shot = 175552 #Cristina low n to locked mode disruption\n",
    "ax.set_title(f\"Shot {shot}\")\n",
    "dis_vis.subplot_draw_trajectory(ax, d3d_df, entry_dict, d3d_indices, shot)\n",
    "# Plotting Constraints\n",
    "# ax.plot([0,20], [0.5, 0.5], '--', c='orange')\n",
    "# ax.plot([0,20], [0.0, 0.5], '--', c='orange')"
   ]
  },
  {
   "cell_type": "code",
   "execution_count": null,
   "id": "36c85382",
   "metadata": {},
   "outputs": [],
   "source": [
    "#Regular Trace\n",
    "shot_data = d3d_df[d3d_df.shot==shot].index\n",
    "# plt.plot(d3d_df['time'][shot_data],d3d_df['n_equal_1_normalized'][shot_data], label='n_equal_1_normalized')\n",
    "# plt.plot(d3d_df['time'][shot_data],d3d_df['n1rms_normalized'][shot_data], label='n1rms_normalized')\n",
    "\n",
    "plt.plot(d3d_df['time'][shot_data],d3d_df['q95'][shot_data], label='q95')\n",
    "plt.plot(d3d_df['time'][shot_data],d3d_df['n_e'][shot_data]/1e19, label='n_e/1e19')\n",
    "\n",
    "plt.legend()\n",
    "plt.xlabel(\"Time (s)\")"
   ]
  },
  {
   "cell_type": "code",
   "execution_count": null,
   "id": "b8f8cb78",
   "metadata": {},
   "outputs": [],
   "source": [
    "# Parameter setup\n",
    "figtype = 'disruptivity_likelihood'\n",
    "shotlist = None # set to None for no shotlist\n",
    "     \n",
    "# Compute indices of interest\n",
    "indices_n_disrupt, indices_n_total = dis.get_indices_disruptivity(D3D, d3d_df, d3d_indices, shotlist=shotlist)\n",
    "\n",
    "# fig,ax = big_crunch(cmod_df, cmod_indices, shotlist, CMOD, figtype, nbins=25, tau=50, window=25)\n",
    "fig,ax = big_crunch(d3d_df, d3d_indices, shotlist, D3D, figtype, nbins=35, tau=350, window=25)"
   ]
  },
  {
   "cell_type": "code",
   "execution_count": null,
   "id": "94409dd4",
   "metadata": {},
   "outputs": [],
   "source": [
    "fig.savefig(\"big_crunch_d3d.png\", dpi=400, bbox_inches=\"tight\")"
   ]
  },
  {
   "cell_type": "code",
   "execution_count": null,
   "id": "850a5a07",
   "metadata": {},
   "outputs": [],
   "source": [
    "plt.plot(d3d_df['z_error'])"
   ]
  },
  {
   "cell_type": "code",
   "execution_count": null,
   "id": "3df07615",
   "metadata": {},
   "outputs": [],
   "source": [
    "plt.plot(cmod_df['shot'][446000:475000])"
   ]
  },
  {
   "cell_type": "code",
   "execution_count": null,
   "id": "487b703d",
   "metadata": {},
   "outputs": [],
   "source": [
    "cmod_df['shot'][465000]"
   ]
  },
  {
   "cell_type": "code",
   "execution_count": null,
   "id": "d37f12dc",
   "metadata": {},
   "outputs": [],
   "source": [
    "# def subplot_trajectory()"
   ]
  },
  {
   "cell_type": "code",
   "execution_count": null,
   "id": "11c9896e",
   "metadata": {},
   "outputs": [],
   "source": [
    "cmod_df.keys()"
   ]
  },
  {
   "cell_type": "code",
   "execution_count": null,
   "id": "efe9b221",
   "metadata": {},
   "outputs": [],
   "source": [
    "test = np.array(cmod_df['n_e']/1e19)\n",
    "test[test>70] = 0\n",
    "test[test<0] = 0\n",
    "plt.plot(test)"
   ]
  },
  {
   "cell_type": "code",
   "execution_count": null,
   "id": "72f427ab",
   "metadata": {},
   "outputs": [],
   "source": [
    "plt.hist(cmod_df['n_e']/1e19, range=[0,50])"
   ]
  },
  {
   "cell_type": "code",
   "execution_count": null,
   "id": "95722bc8",
   "metadata": {},
   "outputs": [],
   "source": [
    "cmod_vde_shotlist = np.loadtxt(\"../data/cmod_vde_shotlist.txt\", dtype=int)"
   ]
  },
  {
   "cell_type": "code",
   "execution_count": null,
   "id": "6128eb2c",
   "metadata": {},
   "outputs": [],
   "source": [
    "cmod_vde_shotlist[0]"
   ]
  },
  {
   "cell_type": "code",
   "execution_count": null,
   "id": "831531c2",
   "metadata": {},
   "outputs": [],
   "source": [
    "d3d_df.keys()"
   ]
  },
  {
   "cell_type": "code",
   "execution_count": null,
   "id": "3a68cc76",
   "metadata": {},
   "outputs": [],
   "source": [
    "# plt.hist(d3d_df['n_equal_1_normalized'], bins=35)\n",
    "plt.hist(d3d_df['n_equal_1_normalized'], bins=35, range=[0,1e-3])"
   ]
  },
  {
   "cell_type": "code",
   "execution_count": null,
   "id": "eb9966ae",
   "metadata": {},
   "outputs": [],
   "source": []
  },
  {
   "cell_type": "code",
   "execution_count": null,
   "id": "9a43e8c4",
   "metadata": {},
   "outputs": [],
   "source": []
  }
 ],
 "metadata": {
  "kernelspec": {
   "display_name": "Python 3 (ipykernel)",
   "language": "python",
   "name": "python3"
  },
  "language_info": {
   "codemirror_mode": {
    "name": "ipython",
    "version": 3
   },
   "file_extension": ".py",
   "mimetype": "text/x-python",
   "name": "python",
   "nbconvert_exporter": "python",
   "pygments_lexer": "ipython3",
   "version": "3.10.6"
  }
 },
 "nbformat": 4,
 "nbformat_minor": 5
}
