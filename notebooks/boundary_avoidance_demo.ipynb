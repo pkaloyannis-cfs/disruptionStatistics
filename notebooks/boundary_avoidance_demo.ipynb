{
 "cells": [
  {
   "cell_type": "markdown",
   "id": "3fca4863",
   "metadata": {},
   "source": [
    "### Gradient Explorations\n",
    "\n",
    "This document includes the explorations of non-linear boundary avoidance. It is missing some code that I have locally and will put up Soon (TM)."
   ]
  },
  {
   "cell_type": "code",
   "execution_count": null,
   "id": "aa29b57f",
   "metadata": {},
   "outputs": [],
   "source": [
    "%load_ext autoreload\n",
    "%autoreload 2\n",
    "\n",
    "\n",
    "import pandas as pd\n",
    "import matplotlib.pyplot as plt\n",
    "import scipy\n",
    "from scipy.signal import convolve2d\n",
    "from scipy.ndimage import gaussian_filter\n",
    "from scipy.optimize import minimize, LinearConstraint\n",
    "from scipy.interpolate import interp1d, LinearNDInterpolator\n",
    "\n",
    "# Move into the source directory for this notebook to work properly\n",
    "# Probably want a better way of doing this.\n",
    "import os\n",
    "os.chdir('../src/')\n",
    "\n",
    "\n",
    "# Import whatever we need\n",
    "import disruptivity as dis\n",
    "from boundary_avoidance import *\n",
    "import vis.disruptivity_vis as dis_vis\n",
    "import vis.probability_vis as prob_vis\n",
    "from vis.plot_helpers import plot_subplot as plot\n",
    "from data_loader import load_disruptions_mat as load_disruptions_mat\n",
    "\n",
    "# Import tokamak Configuartions\n",
    "import tokamaks.cmod as cmod\n",
    "CMOD = cmod.CONFIG"
   ]
  },
  {
   "cell_type": "markdown",
   "id": "61e0e2ed",
   "metadata": {},
   "source": [
    "# C-Mod\n",
    "\n",
    "Working with disruptivity always starts with loading the data."
   ]
  },
  {
   "cell_type": "code",
   "execution_count": null,
   "id": "95ef20d5",
   "metadata": {},
   "outputs": [],
   "source": [
    "# Loading\n",
    "dataframe, cmod_indices = load_disruptions_mat('../data/CMod_disruption_warning_db.mat')\n",
    "cmod_df = dataframe"
   ]
  },
  {
   "cell_type": "markdown",
   "id": "9dc84770",
   "metadata": {},
   "source": [
    "Create an example entry dictionary."
   ]
  },
  {
   "cell_type": "code",
   "execution_count": null,
   "id": "4fffcf97",
   "metadata": {},
   "outputs": [],
   "source": [
    "# Entry dictionary\n",
    "entry_dict = {\n",
    "    'z_error': CMOD[\"entry_dict\"][\"z_error\"],\n",
    "    'kappa': CMOD[\"entry_dict\"][\"kappa\"],\n",
    "}"
   ]
  },
  {
   "cell_type": "code",
   "execution_count": null,
   "id": "1826b3b4",
   "metadata": {},
   "outputs": [],
   "source": [
    "# Computing the disruptivity and plotting the regular figure\n",
    "# generate a shotlist that does not have the UFOs\n",
    "ufo_shotlist = np.loadtxt(\"../data/cmod_ufo_shotlist.txt\")\n",
    "all_disrupted_pulses = np.array(cmod_df.shot[cmod_indices[\"indices_disrupt_time_in_flattop\"]])\n",
    "shot_indices = np.isin(all_disrupted_pulses, ufo_shotlist).astype(bool)\n",
    "shotlist_no_ufo = all_disrupted_pulses[np.logical_not(shot_indices)]\n",
    "cmod_vde_shotlist = np.loadtxt(\"../data/cmod_vde_shotlist.txt\", dtype=int)\n",
    "\n",
    "# Compute the disruptivity\n",
    "shotlist=shotlist_no_ufo\n",
    "indices_n_disrupt, indices_n_total = dis.get_indices_disruptivity(CMOD, dataframe, cmod_indices, shotlist=shotlist, tau=50, window=25)\n",
    "args = dis.compute_disruptivity_sampling(dataframe, entry_dict, indices_n_disrupt, indices_n_total, nbins=35)"
   ]
  },
  {
   "cell_type": "code",
   "execution_count": null,
   "id": "859bde67",
   "metadata": {},
   "outputs": [],
   "source": [
    "# Different pulses for overlay.\n",
    "shot = 1140226013 #AT PULSE\n",
    "# shot = 1160930030 # BOB PULSE\n",
    "# shot = 1120105021 #VDE\n",
    "# shot = 1120831007 # Non disrupted\n",
    "\n",
    "fig,ax = plot('cmod_q95_ne_disruptivity_kaloyannis.png', dis_vis.subplot_disruptivity2d, args, figsize=(7,4))\n",
    "ax.set_title(f\"Shot {shot}\")\n",
    "dis_vis.subplot_draw_trajectory(\n",
    "    ax, \n",
    "    dataframe, \n",
    "    entry_dict, \n",
    "    cmod_indices['indices_flattop'], \n",
    "    shot\n",
    ")\n",
    "plt.savefig(\"nofill_trajectory.png\", dpi=400, facecolor='white', bbox_inches=\"tight\")"
   ]
  },
  {
   "cell_type": "code",
   "execution_count": null,
   "id": "c71a6670",
   "metadata": {},
   "outputs": [],
   "source": [
    "# Now interatively fill the grid\n",
    "iter_array = iterative_fill(args[0], args[2])\n",
    "\n",
    "# Prep the interpolator for the value of the disruptivity\n",
    "bin_centers = (np.array(args[2])[:,1:]+np.array(args[2])[:,:-1])/2\n",
    "xx = np.meshgrid(*bin_centers)\n",
    "interper = scipy.interpolate.RegularGridInterpolator(bin_centers, iter_array,\n",
    "                                                     method='linear',\n",
    "                                                     bounds_error=False,\n",
    "                                                     fill_value=iter_array.min())"
   ]
  },
  {
   "cell_type": "code",
   "execution_count": null,
   "id": "e02ed781",
   "metadata": {},
   "outputs": [],
   "source": [
    "# Visualize the filling\n",
    "args2 = list(args)\n",
    "args2[0]=iter_array\n",
    "fig,ax = plot('iter_fill.png', dis_vis.subplot_disruptivity2d, args2, figsize=(7,4))\n",
    "ax.set_title(f\"Shot {shot}\")\n",
    "dis_vis.subplot_draw_trajectory(\n",
    "    ax, \n",
    "    dataframe, \n",
    "    entry_dict, \n",
    "    cmod_indices['indices_flattop'], \n",
    "    shot\n",
    ")\n",
    "plt.savefig(\"nograd_trajectory.png\", dpi=400, facecolor='white', bbox_inches=\"tight\")"
   ]
  },
  {
   "cell_type": "code",
   "execution_count": null,
   "id": "6394c0be",
   "metadata": {},
   "outputs": [],
   "source": [
    "# Now Compute the Gradients\n",
    "fig,ax = plt.subplots(1,3, figsize = (15,4) , constrained_layout=True)\n",
    "\n",
    "#Gradients\n",
    "bins = args2[2]\n",
    "bin_centers = (np.array(bins)[:,1:]+np.array(bins)[:,:-1])/2\n",
    "grad_x, grad_y = compute_grads(args2[0], args2[2])\n",
    "norm = np.sqrt(grad_x**2+grad_y**2)\n",
    "interper_x, interper_y = create_interpers(grad_x, grad_y, bins)\n",
    "\n",
    "dis_vis.subplot_grad2d(ax[0], grad_x, *args[1:])\n",
    "dis_vis.subplot_grad2d(ax[1], grad_y, *args[1:])\n",
    "dis_vis.subplot_grad2d(ax[2], norm, *args[1:])\n",
    "\n",
    "ax[0].set_title(\"Grad X\")\n",
    "ax[1].set_title(\"Grad Y\")\n",
    "ax[2].set_title(\"Grad Norm\")"
   ]
  },
  {
   "cell_type": "code",
   "execution_count": null,
   "id": "5a12088a",
   "metadata": {},
   "outputs": [],
   "source": []
  }
 ],
 "metadata": {
  "kernelspec": {
   "display_name": "Python 3 (ipykernel)",
   "language": "python",
   "name": "python3"
  },
  "language_info": {
   "codemirror_mode": {
    "name": "ipython",
    "version": 3
   },
   "file_extension": ".py",
   "mimetype": "text/x-python",
   "name": "python",
   "nbconvert_exporter": "python",
   "pygments_lexer": "ipython3",
   "version": "3.10.6"
  }
 },
 "nbformat": 4,
 "nbformat_minor": 5
}
